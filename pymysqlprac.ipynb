{
 "cells": [
  {
   "cell_type": "code",
   "execution_count": 7,
   "id": "5524b84b-c77e-476f-b460-b0398e1a1c10",
   "metadata": {},
   "outputs": [],
   "source": [
    "import pymysql\n",
    "\n",
    "# mysql 데이터베이스연결 연결자 생성(conn)\n",
    "conn = pymysql.connect(\n",
    "    host = '127.0.0.1',\n",
    "    user = 'root',\n",
    "    password = '1234',\n",
    "    database = 'hanbitDB',\n",
    "    charset = 'utf8'\n",
    "   )"
   ]
  },
  {
   "cell_type": "code",
   "execution_count": 9,
   "id": "445779aa-c2c0-4760-b2a0-d93bae601c3d",
   "metadata": {},
   "outputs": [],
   "source": [
    "cur = conn.cursor() #커서는 데이터를 돌려받는 통로, 하나 만들어준다. "
   ]
  },
  {
   "cell_type": "code",
   "execution_count": 10,
   "id": "be622f59-d16d-4e0c-a495-970ee5bd631a",
   "metadata": {},
   "outputs": [
    {
     "data": {
      "text/plain": [
       "0"
      ]
     },
     "execution_count": 10,
     "metadata": {},
     "output_type": "execute_result"
    }
   ],
   "source": [
    "cur.execute(\"create table if not exists userTable (id char(4), userName char(15) , email char(20), birthYear int)\")\n",
    "#커서.execute(\"쿼리문\") >MySQL로 쿼리문이 전달된다. 본 코드는 테이블 만드는 쿼리"
   ]
  },
  {
   "cell_type": "code",
   "execution_count": 13,
   "id": "b466088b-0c98-42cd-b139-f712b7cb46e1",
   "metadata": {},
   "outputs": [
    {
     "data": {
      "text/plain": [
       "1"
      ]
     },
     "execution_count": 13,
     "metadata": {},
     "output_type": "execute_result"
    }
   ],
   "source": [
    "cur.execute(\"insert into usertable values ('john', 'john Bann','john@naver.com',1990)\") #데이터 추가"
   ]
  },
  {
   "cell_type": "code",
   "execution_count": 15,
   "id": "d7bd0dc3-41f4-4566-83c8-73d31dc94afa",
   "metadata": {},
   "outputs": [
    {
     "data": {
      "text/plain": [
       "1"
      ]
     },
     "execution_count": 15,
     "metadata": {},
     "output_type": "execute_result"
    }
   ],
   "source": [
    "cur.execute(\"insert into usertable values ('kim', 'kin chi', 'kim@daum.net',1992)\") #데이터 추가"
   ]
  },
  {
   "cell_type": "code",
   "execution_count": 16,
   "id": "83aafaff-240c-4b6e-8ae0-8b4315dacda7",
   "metadata": {},
   "outputs": [
    {
     "data": {
      "text/plain": [
       "1"
      ]
     },
     "execution_count": 16,
     "metadata": {},
     "output_type": "execute_result"
    }
   ],
   "source": [
    "cur.execute(\"insert into usertable values ('lee','lee pal','lee@paran.com',1988)\") #데이터 추가"
   ]
  },
  {
   "cell_type": "code",
   "execution_count": 17,
   "id": "67238a26-82a7-4b1b-8c69-c55b5a3e6005",
   "metadata": {},
   "outputs": [
    {
     "data": {
      "text/plain": [
       "1"
      ]
     },
     "execution_count": 17,
     "metadata": {},
     "output_type": "execute_result"
    }
   ],
   "source": [
    "cur.execute(\"insert into usertable values ('park','Park Su','park@gmail.com',1980)\") #데이터 추가"
   ]
  },
  {
   "cell_type": "code",
   "execution_count": 20,
   "id": "f872f0bf-6f76-4eb8-9a6f-531c253a571f",
   "metadata": {},
   "outputs": [],
   "source": [
    "conn.commit() #추가한 데이터를 커밋 해준다."
   ]
  },
  {
   "cell_type": "code",
   "execution_count": null,
   "id": "6b8906b2-e864-4705-8560-081b2d35991d",
   "metadata": {},
   "outputs": [],
   "source": [
    "conn.close() #연결했던 데이터베이스를 닫는다."
   ]
  },
  {
   "cell_type": "code",
   "execution_count": 28,
   "id": "e480609a-f3d8-443b-a2b0-a3713eb384c7",
   "metadata": {},
   "outputs": [
    {
     "name": "stdin",
     "output_type": "stream",
     "text": [
      "사용자 ID ==> suk\n",
      "사용자 이름 ==> joon\n",
      "사용자 이메일 ==> suk@joon.com\n",
      "사용자 출생년도 ==> 25\n",
      "사용자 ID ==> \n"
     ]
    }
   ],
   "source": [
    "import pymysql\n",
    "\n",
    "#전역변수 선언부\n",
    "conn , cur = None, None\n",
    "data1, data2, data3, data4 = \"\", \"\", \"\", \"\"\n",
    "sql = \"\"\n",
    "\n",
    "#메인 코드\n",
    "#연결자 만들기\n",
    "conn = pymysql.connect(host = '127.0.0.1' , user = 'root' , password = '1234', db = 'hanbitDB', charset = 'utf8')\n",
    "#커서생성\n",
    "cur = conn.cursor()\n",
    "\n",
    "while (True):\n",
    "    data1 = input(\"사용자 ID ==>\")\n",
    "    if data1 == \"\": # 공백을 입력할때까지 데이터 입력 반복\n",
    "        break;\n",
    "    date2 = input(\"사용자 이름 ==>\")\n",
    "    data3 = input(\"사용자 이메일 ==>\")\n",
    "    data4 = int(input(\"사용자 출생년도 ==>\"))\n",
    "    sql = \"insert into usertable (id, username, email, birthyear) values (%s, %s, %s, %s)\"\n",
    "    # %s 는 변수를 안전하게 전달하기 위한 placeholder \n",
    "    # cursor.execute() sql 쿼리와 함께 데이터를 전달한다.\n",
    "    # cursor.execute(sql, (value1,value2,value3 ... ) 형식으로 사용\n",
    "    cur.execute(sql, (data1,data2,data3,data4))\n",
    "    "
   ]
  },
  {
   "cell_type": "code",
   "execution_count": 29,
   "id": "a635c4a7-0d83-4913-ab50-8d84228c882a",
   "metadata": {},
   "outputs": [],
   "source": [
    "conn.commit()\n",
    "conn.close()"
   ]
  },
  {
   "cell_type": "code",
   "execution_count": 64,
   "id": "b3430653-2ec6-4d14-b5ae-b08b53ac5cd2",
   "metadata": {},
   "outputs": [
    {
     "name": "stdout",
     "output_type": "stream",
     "text": [
      "사용자ID   사용자 이름    이메일    출생년도\n",
      "-----------------------------------------\n",
      "john      john Bann      john@naver.com      1990\n",
      "kim       kin chi        kim@daum.net        1992\n",
      "lee       lee pal        lee@paran.com       1988\n",
      "park      Park Su        park@gmail.com      1980\n"
     ]
    }
   ],
   "source": [
    "#데이터 조회 프로그램 작성\n",
    "conn , cur = None, None\n",
    "data1 , data2 , data3, data4 = \"\",\"\",\"\",\"\"\n",
    "row = None\n",
    "\n",
    "#메인코드\n",
    "\n",
    "conn = pymysql.connect( host = '127.0.0.1', user ='root' , password = '1234', db='hanbitDB', charset = 'utf8')\n",
    "cur = conn.cursor()\n",
    "\n",
    "cur.execute(\"select * from usertable\")\n",
    "\n",
    "print(\"사용자ID   사용자 이름    이메일    출생년도\")\n",
    "print(\"-----------------------------------------\")\n",
    "#fetchone > 하나씩 행을 가져온다.\n",
    "while (True):\n",
    "    row = cur.fetchone()\n",
    "    if row == None:\n",
    "        break\n",
    "    data1 = row[0]\n",
    "    data2 = row[1]\n",
    "    data3 = row[2]\n",
    "    data4 = row[3]\n",
    "    #{data1:10} 10개의 공백을 확보하고 왼쪽부터 data1을 채워라\n",
    "    print(f\"{data1:10}{data2:15}{data3:20}{data4:d}\")\n",
    "   # print(f\"({data1}   {data2}      {data3}    {data4}\")\n",
    "\n",
    "conn.close()\n"
   ]
  },
  {
   "cell_type": "code",
   "execution_count": 52,
   "id": "7de81484-1458-49c3-843c-f1be45a70e91",
   "metadata": {},
   "outputs": [
    {
     "data": {
      "text/plain": [
       "4"
      ]
     },
     "execution_count": 52,
     "metadata": {},
     "output_type": "execute_result"
    }
   ],
   "source": [
    "import pymysql\n",
    "\n",
    "conn = pymysql.connect( host = '127.1.1.0', user = 'root', password = '1234', charset = 'utf8', db='hanbitdb' )\n",
    "cur = conn.cursor()\n",
    "sql = \"select * from usertable\"\n",
    "cur.execute(sql)\n",
    "#출력은 4 로 나온다. 4행에 성공적으로 적용되었다는 뜻\n"
   ]
  },
  {
   "cell_type": "code",
   "execution_count": 55,
   "id": "45df9dce-bfcf-4ff0-ae72-4f3552c1ed7d",
   "metadata": {},
   "outputs": [],
   "source": [
    "#행 전체를 받아오는 매서드 fetchall, 두번 사용할 수 없다.\n",
    "rows = cur.fetchall()\n",
    "for row in rows:\n",
    "    print(row)"
   ]
  },
  {
   "cell_type": "code",
   "execution_count": 56,
   "id": "98799c6d-1b25-41ad-a3eb-7b7ab20973c9",
   "metadata": {},
   "outputs": [
    {
     "name": "stdout",
     "output_type": "stream",
     "text": [
      "['john', 'john Bann', 'john@naver.com', 1990, 'kim', 'kin chi', 'kim@daum.net', 1992, 'lee', 'lee pal', 'lee@paran.com', 1988, 'park', 'Park Su', 'park@gmail.com', 1980]\n"
     ]
    }
   ],
   "source": [
    "#위에서 fetchall을 한번 써서 다시 쓰기위해서는 sql문 한번 더 써줘야 한다.\n",
    "sql = \"select * from usertable\"\n",
    "cur.execute(sql)\n",
    "rows = cur.fetchall()\n",
    "list_a = []\n",
    "for i in rows:\n",
    "    \n",
    "    list_a.extend(i)\n",
    "\n",
    "print(list_a)\n",
    "\n",
    "    "
   ]
  },
  {
   "cell_type": "code",
   "execution_count": null,
   "id": "8005af48-1ba4-4c4c-8ee4-cebef7fa575a",
   "metadata": {},
   "outputs": [],
   "source": []
  },
  {
   "cell_type": "code",
   "execution_count": null,
   "id": "e8d67059-66f2-40e6-885d-3ecec8030efd",
   "metadata": {},
   "outputs": [],
   "source": []
  }
 ],
 "metadata": {
  "kernelspec": {
   "display_name": "Python 3 (ipykernel)",
   "language": "python",
   "name": "python3"
  },
  "language_info": {
   "codemirror_mode": {
    "name": "ipython",
    "version": 3
   },
   "file_extension": ".py",
   "mimetype": "text/x-python",
   "name": "python",
   "nbconvert_exporter": "python",
   "pygments_lexer": "ipython3",
   "version": "3.12.4"
  }
 },
 "nbformat": 4,
 "nbformat_minor": 5
}
