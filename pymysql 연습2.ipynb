{
 "cells": [
  {
   "cell_type": "code",
   "execution_count": 1,
   "id": "89141a08-fe1b-4d44-ab1f-211ae26de737",
   "metadata": {},
   "outputs": [],
   "source": [
    "import pymysql \n",
    "#연결자 생성\n",
    "connection = pymysql.connect(host = \"localhost\", user = \"root\" , password = \"1234\", db = 'sqldb', charset = 'utf8')\n",
    "#SQL문을 데이터베이스로 보내고, 데이터를 받아오는 통로 cursor. 데이터를 컬럼명을 키, 속성값들을 value 로 받는다.\n",
    "cursor = connection.cursor(pymysql.cursors.DictCursor)\n",
    "#SQL문을 작성한다.\n",
    "sql = 'select * from usertbl;'\n",
    "#쿼리문을 실행한다.\n",
    "cursor.execute(sql)\n",
    "#데이터베이스에는 실행된 결과가 있다. fetchall(), fetchone(), fetchmany() 로 받아온다.\n",
    "datas = cursor.fetchall()\n",
    "#커서를 닫고 연결을 종료한다.\n",
    "cursor.close()\n",
    "connection.close()\n",
    "#불러온 데이터를 확인한다.\n",
    "datas"
   ]
  },
  {
   "cell_type": "code",
   "execution_count": 21,
   "id": "8e55b804-38df-484c-8832-78189fcc3f0b",
   "metadata": {},
   "outputs": [],
   "source": []
  },
  {
   "cell_type": "code",
   "execution_count": 23,
   "id": "8e8679a0-fb21-4396-b0fc-fbc2706e4f6e",
   "metadata": {},
   "outputs": [],
   "source": []
  }
 ],
 "metadata": {
  "kernelspec": {
   "display_name": "Python 3 (ipykernel)",
   "language": "python",
   "name": "python3"
  },
  "language_info": {
   "codemirror_mode": {
    "name": "ipython",
    "version": 3
   },
   "file_extension": ".py",
   "mimetype": "text/x-python",
   "name": "python",
   "nbconvert_exporter": "python",
   "pygments_lexer": "ipython3",
   "version": "3.12.4"
  }
 },
 "nbformat": 4,
 "nbformat_minor": 5
}
